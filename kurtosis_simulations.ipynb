{
 "cells": [
  {
   "cell_type": "code",
   "execution_count": null,
   "metadata": {},
   "outputs": [],
   "source": [
    "import msprime\n",
    "import pickle\n",
    "import math\n",
    "import numpy as np\n",
    "import matplotlib.pyplot as plt\n",
    "import scipy\n",
    "import scipy.integrate as integrate\n",
    "%matplotlib inline"
   ]
  },
  {
   "cell_type": "markdown",
   "metadata": {},
   "source": [
    "# Functions for running trait simulations:"
   ]
  },
  {
   "cell_type": "code",
   "execution_count": null,
   "metadata": {},
   "outputs": [],
   "source": [
    "def full_pop_reps(Ne_sim, mu, pi, rr=0.0):\n",
    "    genotypes = []\n",
    "    c_rate = lambda t: np.exp(rr*2.*Ne_sim*t)\n",
    "    T2_2 = ETj(2, 2, c_rate)[0] # get the expected pairwise coal time in units of 2Ne\n",
    "    LL = round(pi / (4.*mu*Ne_sim*T2_2)) # calculate the necessary number of sites\n",
    "    replicates = msprime.simulate(\n",
    "        mutation_rate=mu,\n",
    "        num_replicates=LL,\n",
    "        population_configurations = [msprime.PopulationConfiguration(growth_rate=rr,\n",
    "                                                                     sample_size=2*Ne_sim,\n",
    "                                                                     initial_size=Ne_sim)])\n",
    "    for j, tree_sequence in enumerate(replicates):\n",
    "        if tree_sequence.get_num_mutations() > 0:\n",
    "            variant = next(tree_sequence.variants())\n",
    "            genotypes.append(variant.genotypes)\n",
    "        if tree_sequence.get_num_mutations() > 1:\n",
    "            print(\"Warning: more than one mutation\")\n",
    "    return(np.array(genotypes, dtype=np.int32))\n",
    "\n",
    "def nt_div(genotypes):\n",
    "    result = 0\n",
    "    psum = 0\n",
    "    for ii in range(genotypes.shape[1]):\n",
    "        for jj in range(ii+1, genotypes.shape[1]):\n",
    "            result += np.sum(np.abs(genotypes[:,ii] - genotypes[:,jj]))\n",
    "            psum += 1\n",
    "    return result/psum\n",
    "\n",
    "def phen_pop(Ne_sim, mu, pi, mut_dist, rr=0.0):\n",
    "    genotypes = np.transpose(full_pop_reps(Ne_sim, mu, pi, rr=rr))\n",
    "    while len(genotypes.shape) == 1: # only take pops where at least one mutation occurs\n",
    "        genotypes = np.transpose(full_pop_reps(Ne_sim, mu, pi, rr=rr))\n",
    "    return(genotypes * mut_dist(genotypes.shape[1]))\n",
    "\n",
    "def pop_kurt(phenotypes):\n",
    "    phens = np.sum(phenotypes, axis=1)\n",
    "    mean_phen = np.mean(phens)\n",
    "    m4 = np.mean((phens - mean_phen)**4)\n",
    "    m2 = np.var(phens)\n",
    "    return(m4 / m2**2)\n",
    "\n",
    "def pop_var(phenotypes):\n",
    "    phens = np.sum(phenotypes, axis=1)\n",
    "    return(np.var(phens))\n",
    "\n",
    "def pop_m4(phenotypes):\n",
    "    phens = np.sum(phenotypes, axis=1)\n",
    "    mean_phen = np.mean(phens)\n",
    "    m4 = np.mean((phens - mean_phen)**4)\n",
    "    return(m4)\n",
    "\n",
    "def var_sq(phenotypes):\n",
    "    phens = np.sum(phenotypes, axis=1)\n",
    "    return(np.var(phens)**2)"
   ]
  },
  {
   "cell_type": "markdown",
   "metadata": {},
   "source": [
    "# Functions for computing first-order approximation"
   ]
  },
  {
   "cell_type": "code",
   "execution_count": null,
   "metadata": {},
   "outputs": [],
   "source": [
    "def rho(j, t, eta):\n",
    "    return np.exp(-scipy.special.binom(int(j), 2)*integrate.quad(eta, 0, t, limit=100)[0])\n",
    "\n",
    "def comb_term(j, k, n):\n",
    "    assert j >= k, \"invalid integers\"\n",
    "    return ((-1)**(j-k)*(2*j - 1)*np.prod(list(range(k, k + j -1)))*\n",
    "            np.prod(list(range(n, n - j, -1)))/\n",
    "            (math.factorial(k)*math.factorial(j - k)*\n",
    "             np.prod(list(range(n, n + j)))))\n",
    "\n",
    "def P_Ant(k, t, n, eta):\n",
    "    result = 0\n",
    "    for jj in range(k, n + 1):\n",
    "        result += (rho(jj, t, eta)*\n",
    "                   comb_term(jj, k , n))\n",
    "    return result\n",
    "\n",
    "def ETj(k, n, eta):\n",
    "    PP = lambda t: P_Ant(k, t, n, eta)\n",
    "    return integrate.quad(PP, 0, scipy.inf, limit=100)"
   ]
  },
  {
   "cell_type": "markdown",
   "metadata": {},
   "source": [
    "# Run simulations"
   ]
  },
  {
   "cell_type": "markdown",
   "metadata": {},
   "source": [
    "Define pairwise difference parameters and the number of reps for different simulations."
   ]
  },
  {
   "cell_type": "code",
   "execution_count": null,
   "metadata": {},
   "outputs": [],
   "source": [
    "pi_set = [0.5, 1.0, 1.5, 2.0, 3.0, 4.0, 5.0, 10.0]\n",
    "nreps = [500, 500, 500, 500, 400, 300, 200, 100]\n",
    "test_Ne = 1000"
   ]
  },
  {
   "cell_type": "markdown",
   "metadata": {},
   "source": [
    "Running the simulations...\n",
    "Uncomment these lines to rerun the simulations. Otherwise load simulation results that were used to create figures in manuscript."
   ]
  },
  {
   "cell_type": "code",
   "execution_count": null,
   "metadata": {},
   "outputs": [],
   "source": [
    "#sim_phens_norm = []\n",
    "#for ii, pi in enumerate(pi_set):\n",
    "#    print(pi)\n",
    "#    sim_phens_norm.append([])\n",
    "#    for jj in range(nreps[ii]):\n",
    "#        sim_phens_norm[ii].append(phen_pop(test_Ne, 1e-6, pi, mut_dist=lambda n: np.random.normal(size=n), rr=0.0))"
   ]
  },
  {
   "cell_type": "code",
   "execution_count": null,
   "metadata": {},
   "outputs": [],
   "source": [
    "#sim_phens_lap = []\n",
    "#for ii, pi in enumerate(pi_set):\n",
    "#    print(pi)\n",
    "#    sim_phens_lap.append([])\n",
    "#    for jj in range(nreps[ii]):\n",
    "#        sim_phens_lap[ii].append(phen_pop(test_Ne, 1e-6, pi, mut_dist=lambda n: np.random.laplace(size=n), rr=0.0))"
   ]
  },
  {
   "cell_type": "code",
   "execution_count": null,
   "metadata": {},
   "outputs": [],
   "source": [
    "#sim_phens_norm_growth = []\n",
    "#for ii, pi in enumerate(pi_set):\n",
    "#    print(pi)\n",
    "#    sim_phens_norm_growth.append([])\n",
    "#    for jj in range(nreps[ii]):\n",
    "#        sim_phens_norm_growth[ii].append(phen_pop(test_Ne, 1e-6, pi, \n",
    "#                                                  mut_dist=lambda n: np.random.normal(size=n), rr=1.0/test_Ne))"
   ]
  },
  {
   "cell_type": "code",
   "execution_count": null,
   "metadata": {},
   "outputs": [],
   "source": [
    "#sim_phens_lap_growth = []\n",
    "#for ii, pi in enumerate(pi_set):\n",
    "#    print(pi)\n",
    "#    sim_phens_lap_growth.append([])\n",
    "#    for jj in range(nreps[ii]):\n",
    "#        sim_phens_lap_growth[ii].append(phen_pop(test_Ne, 1e-6, pi, \n",
    "#                                                  mut_dist=lambda n: np.random.laplace(size=n), rr=1.0/test_Ne))"
   ]
  },
  {
   "cell_type": "markdown",
   "metadata": {},
   "source": [
    "Load in simulations that have already been run."
   ]
  },
  {
   "cell_type": "code",
   "execution_count": null,
   "metadata": {},
   "outputs": [],
   "source": [
    "with open(\"sim_phens_norm.pyc\", \"rb\") as fin:\n",
    "     sim_phens_norm = pickle.load(fin)"
   ]
  },
  {
   "cell_type": "code",
   "execution_count": null,
   "metadata": {},
   "outputs": [],
   "source": [
    "with open(\"sim_phens_lap.pyc\", \"rb\") as fin:\n",
    "    sim_phens_lap = pickle.load(fin)"
   ]
  },
  {
   "cell_type": "code",
   "execution_count": null,
   "metadata": {},
   "outputs": [],
   "source": [
    "with open(\"sim_phens_norm_growth.pyc\", \"rb\") as fin:\n",
    "    sim_phens_growth_norm = pickle.load(fin)"
   ]
  },
  {
   "cell_type": "code",
   "execution_count": null,
   "metadata": {},
   "outputs": [],
   "source": [
    "with open(\"sim_phens_lap_growth.pyc\", \"rb\") as fin:\n",
    "    sim_phens_growth_lap = pickle.load(fin)"
   ]
  },
  {
   "cell_type": "markdown",
   "metadata": {},
   "source": [
    "Calculate the kurtosis in each simulated population."
   ]
  },
  {
   "cell_type": "code",
   "execution_count": null,
   "metadata": {},
   "outputs": [],
   "source": [
    "pop_kurts_norm = []\n",
    "for ii, pi in enumerate(pi_set):\n",
    "    pop_kurts_norm.append([0]*nreps[ii])\n",
    "    for jj in range(nreps[ii]):\n",
    "        pop_kurts_norm[ii][jj] = pop_kurt(sim_phens_norm[ii][jj])"
   ]
  },
  {
   "cell_type": "code",
   "execution_count": null,
   "metadata": {},
   "outputs": [],
   "source": [
    "pop_kurts_lap = []\n",
    "for ii, pi in enumerate(pi_set):\n",
    "    pop_kurts_lap.append([0]*nreps[ii])\n",
    "    for jj in range(nreps[ii]):\n",
    "        pop_kurts_lap[ii][jj] = pop_kurt(sim_phens_lap[ii][jj])"
   ]
  },
  {
   "cell_type": "code",
   "execution_count": null,
   "metadata": {},
   "outputs": [],
   "source": [
    "pop_kurts_growth_lap = []\n",
    "for ii, pi in enumerate(pi_set):\n",
    "    pop_kurts_growth_lap.append([0]*nreps[ii])\n",
    "    for jj in range(nreps[ii]):\n",
    "        pop_kurts_growth_lap[ii][jj] = pop_kurt(sim_phens_growth_lap[ii][jj])"
   ]
  },
  {
   "cell_type": "code",
   "execution_count": null,
   "metadata": {},
   "outputs": [],
   "source": [
    "pop_kurts_growth_norm = []\n",
    "for ii, pi in enumerate(pi_set):\n",
    "    pop_kurts_growth_norm.append([0]*nreps[ii])\n",
    "    for jj in range(nreps[ii]):\n",
    "        pop_kurts_growth_norm[ii][jj] = pop_kurt(sim_phens_growth_norm[ii][jj])"
   ]
  },
  {
   "cell_type": "markdown",
   "metadata": {},
   "source": [
    "Calculate expected kurtosis under first-order approximation"
   ]
  },
  {
   "cell_type": "code",
   "execution_count": null,
   "metadata": {},
   "outputs": [],
   "source": [
    "ET4_4 = ETj(4, 4, lambda t: np.exp(t))[0]\n",
    "ET3_4 = ETj(3, 4, lambda t: np.exp(t))[0]\n",
    "ET2_4 = ETj(2, 4, lambda t: np.exp(t))[0]\n",
    "ET2_2 = ETj(2, 2, lambda t: np.exp(t))[0]\n",
    "AA = (ET4_4 - (1./6.)*ET3_4 - (1./9.)*ET2_4)/ET2_2\n",
    "BB = ((1./6.)*ET3_4 + (1./9.)*ET2_4)/ET2_2"
   ]
  },
  {
   "cell_type": "markdown",
   "metadata": {},
   "source": [
    "Now plot everything."
   ]
  },
  {
   "cell_type": "code",
   "execution_count": null,
   "metadata": {},
   "outputs": [],
   "source": [
    "plt.figure(1, figsize=(10, 10))\n",
    "plt.subplot(221)\n",
    "plt.boxplot(pop_kurts_norm, positions=pi_set, showmeans=True);\n",
    "plt.plot(pi_set, [3]*len(pi_set), \"--r\", label=\"first-order kurtosis approximation\")\n",
    "plt.tick_params(labelsize=7)\n",
    "plt.yscale(\"log\", basey=3)\n",
    "plt.xlabel(\"expected pairwise differences\")\n",
    "plt.ylabel(\"kurtosis\")\n",
    "plt.legend()\n",
    "plt.title(\"Normal mutations - constant size\")\n",
    "\n",
    "plt.subplot(222)\n",
    "plt.boxplot(pop_kurts_lap, positions=pi_set, showmeans=True);\n",
    "plt.plot(pi_set, [3]*len(pi_set), \"--r\", label=\"first-order kurtosis approximation\")\n",
    "plt.tick_params(labelsize=7)\n",
    "plt.yscale(\"log\", basey=3)\n",
    "plt.xlabel(\"expected pairwise differences\")\n",
    "plt.ylabel(\"kurtosis\")\n",
    "plt.legend()\n",
    "plt.title(\"Laplace mutations - constant size\")\n",
    "\n",
    "plt.subplot(224)\n",
    "plt.boxplot(pop_kurts_growth_lap, positions=pi_set, showmeans=True);\n",
    "plt.plot(pi_set, 3 + 6.*AA/(0.5*np.array(pi_set) + 6.*BB), \"--r\", label=\"first-order kurtosis approximation\")\n",
    "plt.tick_params(labelsize=7)\n",
    "plt.yscale(\"log\", basey=3)\n",
    "plt.xlabel(\"expected pairwise differences\")\n",
    "plt.ylabel(\"kurtosis\")\n",
    "plt.legend()\n",
    "plt.title(\"Laplace mutations - exponential growth\")\n",
    "\n",
    "plt.subplot(223)\n",
    "plt.boxplot(pop_kurts_growth_norm, positions=pi_set, showmeans=True);\n",
    "plt.plot(pi_set, 3 + 3.*AA/(0.5*np.array(pi_set) + 3.*BB), \"--r\", label=\"first-order kurtosis approximation\")\n",
    "plt.tick_params(labelsize=7)\n",
    "plt.yscale(\"log\", basey=3)\n",
    "plt.xlabel(\"expected pairwise differences\")\n",
    "plt.ylabel(\"kurtosis\")\n",
    "plt.legend()\n",
    "plt.title(\"Normal mutations - exponential growth\")"
   ]
  }
 ],
 "metadata": {
  "kernelspec": {
   "display_name": "Python 3",
   "language": "python",
   "name": "python3"
  },
  "language_info": {
   "codemirror_mode": {
    "name": "ipython",
    "version": 3
   },
   "file_extension": ".py",
   "mimetype": "text/x-python",
   "name": "python",
   "nbconvert_exporter": "python",
   "pygments_lexer": "ipython3",
   "version": "3.5.6"
  }
 },
 "nbformat": 4,
 "nbformat_minor": 2
}
