{
 "cells": [
  {
   "cell_type": "code",
   "execution_count": 2,
   "metadata": {},
   "outputs": [],
   "source": [
    "import pickle\n",
    "import mgf_math\n",
    "import geneMGF\n",
    "import sympy\n",
    "sympy.init_printing()"
   ]
  },
  {
   "cell_type": "markdown",
   "metadata": {},
   "source": [
    "The goal here is to get general expressions for the central moments trait values in exchangeable samples of individuals. For a moment of order $k$ we have to consider a sample size of at least $k$. "
   ]
  },
  {
   "cell_type": "code",
   "execution_count": 31,
   "metadata": {},
   "outputs": [],
   "source": [
    "test_mgf_2 = mgf_math.traitMGF(nIndiv = 2)\n",
    "test_mgf_2.make_mgf(order = 2, approx_type = \"exchangeable\")"
   ]
  },
  {
   "cell_type": "code",
   "execution_count": 35,
   "metadata": {
    "scrolled": true
   },
   "outputs": [
    {
     "name": "stdout",
     "output_type": "stream",
     "text": [
      "making mgf approx...\n",
      "mgf already created!\n",
      "simplifying mgf...\n",
      "taking derivative k_0 order 1\n",
      "taking derivative k_0 order 2\n"
     ]
    },
    {
     "data": {
      "image/png": "[encoded data removed]",
      "text/latex": [
       "$$L^{2} m_{1}^{2} t_{0}^{2} \\theta^{2} - L m_{1}^{2} t_{0}^{2} \\theta^{2} + L m_{1}^{2} t_{0x0} \\theta^{2} + L m_{2} t_{0} \\theta$$"
      ],
      "text/plain": [
       " 2   2   2  2       2   2  2       2       2            \n",
       "L ⋅m₁ ⋅t₀ ⋅θ  - L⋅m₁ ⋅t₀ ⋅θ  + L⋅m₁ ⋅t₀ₓ₀⋅θ  + L⋅m₂⋅t₀⋅θ"
      ]
     },
     "execution_count": 35,
     "metadata": {},
     "output_type": "execute_result"
    }
   ],
   "source": [
    "mom_x1x1_2 = test_mgf_2.calc_moment(pows = [2,0], approx_type = \"exchangeable\").simplify().expand()\n",
    "mom_x1x1_2"
   ]
  },
  {
   "cell_type": "code",
   "execution_count": 36,
   "metadata": {},
   "outputs": [
    {
     "data": {
      "image/png": "[encoded data removed]",
      "text/latex": [
       "$$L m_{1} t_{0} \\theta$$"
      ],
      "text/plain": [
       "L⋅m₁⋅t₀⋅θ"
      ]
     },
     "execution_count": 36,
     "metadata": {},
     "output_type": "execute_result"
    }
   ],
   "source": [
    "mom_x1_2 = test_mgf_2.calc_moment(pows = [1,0], approx_type = \"exchangeable\").simplify().expand()\n",
    "mom_x1_2"
   ]
  },
  {
   "cell_type": "code",
   "execution_count": 37,
   "metadata": {},
   "outputs": [
    {
     "data": {
      "image/png": "[encoded data removed]",
      "text/latex": [
       "$$- L m_{1}^{2} t_{0}^{2} \\theta^{2} + L m_{1}^{2} t_{0x0} \\theta^{2} + L m_{2} t_{0} \\theta$$"
      ],
      "text/plain": [
       "      2   2  2       2       2            \n",
       "- L⋅m₁ ⋅t₀ ⋅θ  + L⋅m₁ ⋅t₀ₓ₀⋅θ  + L⋅m₂⋅t₀⋅θ"
      ]
     },
     "execution_count": 37,
     "metadata": {},
     "output_type": "execute_result"
    }
   ],
   "source": [
    "mom_x1x1_2 - mom_x1_2**2"
   ]
  },
  {
   "cell_type": "code",
   "execution_count": 38,
   "metadata": {
    "scrolled": true
   },
   "outputs": [
    {
     "name": "stdout",
     "output_type": "stream",
     "text": [
      "making mgf approx...\n",
      "mgf already created!\n",
      "simplifying mgf...\n",
      "taking derivative k_0 order 1\n",
      "taking derivative k_1 order 1\n"
     ]
    },
    {
     "data": {
      "image/png": "[encoded data removed]",
      "text/latex": [
       "$$L^{2} m_{1}^{2} t_{0}^{2} \\theta^{2} - L m_{1}^{2} t_{0}^{2} \\theta^{2} + L m_{1}^{2} t_{0x1} \\theta^{2}$$"
      ],
      "text/plain": [
       " 2   2   2  2       2   2  2       2       2\n",
       "L ⋅m₁ ⋅t₀ ⋅θ  - L⋅m₁ ⋅t₀ ⋅θ  + L⋅m₁ ⋅t₀ₓ₁⋅θ "
      ]
     },
     "execution_count": 38,
     "metadata": {},
     "output_type": "execute_result"
    }
   ],
   "source": [
    "mom_x1x2_2 = test_mgf_2.calc_moment(pows = [1,1], approx_type = \"exchangeable\")\n",
    "mom_x1x2_2"
   ]
  },
  {
   "cell_type": "markdown",
   "metadata": {},
   "source": [
    "If we want to know the expected second central moment in the population, $E[h_2]=E[\\frac{1}{N}\\sum_N(\\bar{Y} - Y_i)^2]$, this can be calculated from the expected sample moments of a sample of size two. These are $E[Y_1^2]$ and $E[Y_1Y_2]$. We can calculate this as follows."
   ]
  },
  {
   "cell_type": "code",
   "execution_count": 8,
   "metadata": {},
   "outputs": [
    {
     "data": {
      "image/png": "[encoded data removed]",
      "text/latex": [
       "$$L m_{1}^{2} t_{0x0} \\theta^{2} - L m_{1}^{2} t_{0x1} \\theta^{2} + L m_{2} t_{0} \\theta$$"
      ],
      "text/plain": [
       "    2       2       2       2            \n",
       "L⋅m₁ ⋅t₀ₓ₀⋅θ  - L⋅m₁ ⋅t₀ₓ₁⋅θ  + L⋅m₂⋅t₀⋅θ"
      ]
     },
     "execution_count": 8,
     "metadata": {},
     "output_type": "execute_result"
    }
   ],
   "source": [
    "mom_x1x1_2 - mom_x1x2_2"
   ]
  },
  {
   "cell_type": "markdown",
   "metadata": {},
   "source": [
    "Looking at this we can see that the terms $t_{0x0}$ and $t_{0x1}$ should be equal because the branches subtending $0$ and $1$ in a sample of size two will always have the same length. The expression therefore simplifies to $m_{2} t_{0} \\theta$. We want the computer to notice this equality and simplify the expression for us. However, coding up such a system of algebra would take some time and effort to get right. Instead, we will rewrite the expressions in terms of $T_{i.n}$, the expected time in a sample of size $n$ that there are $i$ lineages remaining. "
   ]
  },
  {
   "cell_type": "code",
   "execution_count": 39,
   "metadata": {},
   "outputs": [
    {
     "data": {
      "image/png": "[encoded data removed]",
      "text/latex": [
       "$$L^{2} T_{2.1n2}^{2} m_{1}^{2} \\theta^{2} - L T_{2.1n2}^{2} m_{1}^{2} \\theta^{2} + L T_{2.1n2} m_{2} \\theta + L T_{2.2n2} m_{1}^{2} \\theta^{2}$$"
      ],
      "text/plain": [
       " 2        2   2  2            2   2  2                                2  2\n",
       "L ⋅T_2.1n2 ⋅m₁ ⋅θ  - L⋅T_2.1n2 ⋅m₁ ⋅θ  + L⋅T_2.1n2⋅m₂⋅θ + L⋅T_2.2n2⋅m₁ ⋅θ "
      ]
     },
     "execution_count": 39,
     "metadata": {},
     "output_type": "execute_result"
    }
   ],
   "source": [
    "mgf_math.sub_all_ti(mom_x1x1_2, [['0'], ['1']]).simplify().expand()"
   ]
  },
  {
   "cell_type": "code",
   "execution_count": 40,
   "metadata": {},
   "outputs": [
    {
     "data": {
      "image/png": "[encoded data removed]",
      "text/latex": [
       "$$L^{2} T_{2.1n2}^{2} m_{1}^{2} \\theta^{2} - L T_{2.1n2}^{2} m_{1}^{2} \\theta^{2} + L T_{2.2n2} m_{1}^{2} \\theta^{2}$$"
      ],
      "text/plain": [
       " 2        2   2  2            2   2  2               2  2\n",
       "L ⋅T_2.1n2 ⋅m₁ ⋅θ  - L⋅T_2.1n2 ⋅m₁ ⋅θ  + L⋅T_2.2n2⋅m₁ ⋅θ "
      ]
     },
     "execution_count": 40,
     "metadata": {},
     "output_type": "execute_result"
    }
   ],
   "source": [
    "mgf_math.sub_all_ti(mom_x1x2_2, [['0'], ['1']]).simplify().expand()"
   ]
  },
  {
   "cell_type": "code",
   "execution_count": 41,
   "metadata": {
    "scrolled": true
   },
   "outputs": [
    {
     "data": {
      "image/png": "[encoded data removed]",
      "text/latex": [
       "$$L T_{2.1n2} m_{2} \\theta$$"
      ],
      "text/plain": [
       "L⋅T_2.1n2⋅m₂⋅θ"
      ]
     },
     "execution_count": 41,
     "metadata": {},
     "output_type": "execute_result"
    }
   ],
   "source": [
    "(mgf_math.sub_all_ti(mom_x1x1_2, [['0'], ['1']]) - \n",
    " mgf_math.sub_all_ti(mom_x1x2_2, [['0'], ['1']])).simplify().expand()"
   ]
  },
  {
   "cell_type": "markdown",
   "metadata": {},
   "source": [
    "Now let's do the same thing for the third and fourth central moments."
   ]
  },
  {
   "cell_type": "code",
   "execution_count": 42,
   "metadata": {},
   "outputs": [],
   "source": [
    "test_mgf_3 = mgf_math.traitMGF(nIndiv = 3)\n",
    "test_mgf_3.make_mgf(order = 3, approx_type = \"exchangeable\")"
   ]
  },
  {
   "cell_type": "code",
   "execution_count": 13,
   "metadata": {},
   "outputs": [
    {
     "name": "stdout",
     "output_type": "stream",
     "text": [
      "making mgf approx...\n",
      "mgf already created!\n",
      "simplifying mgf...\n",
      "taking derivative k_0 order 1\n",
      "taking derivative k_0 order 2\n",
      "taking derivative k_0 order 3\n"
     ]
    },
    {
     "data": {
      "image/png": "[encoded data removed]",
      "text/latex": [
       "$$L^{3} m_{1}^{3} t_{0}^{3} \\theta^{3} + 6 L^{3} m_{1}^{3} t_{0}^{2} t_{0.1} \\theta^{3} + 12 L^{3} m_{1}^{3} t_{0} t_{0.1}^{2} \\theta^{3} + 8 L^{3} m_{1}^{3} t_{0.1}^{3} \\theta^{3} - 3 L^{2} m_{1}^{3} t_{0}^{3} \\theta^{3} - 18 L^{2} m_{1}^{3} t_{0}^{2} t_{0.1} \\theta^{3} - 36 L^{2} m_{1}^{3} t_{0} t_{0.1}^{2} \\theta^{3} + 6 L^{2} m_{1}^{3} t_{0} t_{0.1x0.1} \\theta^{3} + 6 L^{2} m_{1}^{3} t_{0} t_{0.2x1.2} \\theta^{3} + 3 L^{2} m_{1}^{3} t_{0} t_{0x0} \\theta^{3} + 12 L^{2} m_{1}^{3} t_{0} t_{1x0.1} \\theta^{3} - 24 L^{2} m_{1}^{3} t_{0.1}^{3} \\theta^{3} + 12 L^{2} m_{1}^{3} t_{0.1} t_{0.1x0.1} \\theta^{3} + 12 L^{2} m_{1}^{3} t_{0.1} t_{0.2x1.2} \\theta^{3} + 6 L^{2} m_{1}^{3} t_{0.1} t_{0x0} \\theta^{3} + 24 L^{2} m_{1}^{3} t_{0.1} t_{1x0.1} \\theta^{3} + 3 L^{2} m_{1} m_{2} t_{0}^{2} \\theta^{2} + 12 L^{2} m_{1} m_{2} t_{0} t_{0.1} \\theta^{2} + 12 L^{2} m_{1} m_{2} t_{0.1}^{2} \\theta^{2} + 2 L m_{1}^{3} t_{0}^{3} \\theta^{3} + 12 L m_{1}^{3} t_{0}^{2} t_{0.1} \\theta^{3} + 24 L m_{1}^{3} t_{0} t_{0.1}^{2} \\theta^{3} - 6 L m_{1}^{3} t_{0} t_{0.1x0.1} \\theta^{3} - 6 L m_{1}^{3} t_{0} t_{0.2x1.2} \\theta^{3} - 3 L m_{1}^{3} t_{0} t_{0x0} \\theta^{3} - 12 L m_{1}^{3} t_{0} t_{1x0.1} \\theta^{3} + 16 L m_{1}^{3} t_{0.1}^{3} \\theta^{3} - 12 L m_{1}^{3} t_{0.1} t_{0.1x0.1} \\theta^{3} - 12 L m_{1}^{3} t_{0.1} t_{0.2x1.2} \\theta^{3} - 6 L m_{1}^{3} t_{0.1} t_{0x0} \\theta^{3} - 24 L m_{1}^{3} t_{0.1} t_{1x0.1} \\theta^{3} + 2 L m_{1}^{3} t_{0.1x0.1x0.1} \\theta^{3} + 3 L m_{1}^{3} t_{0.2x1.2x1.2} \\theta^{3} + L m_{1}^{3} t_{0x0x0} \\theta^{3} + 3 L m_{1}^{3} t_{1.2x1.2x0.2} \\theta^{3} + 6 L m_{1}^{3} t_{1x0.1x0.1} \\theta^{3} + 6 L m_{1}^{3} t_{1x1x0.1} \\theta^{3} + 6 L m_{1}^{3} t_{2x0.2x1.2} \\theta^{3} - 3 L m_{1} m_{2} t_{0}^{2} \\theta^{2} - 12 L m_{1} m_{2} t_{0} t_{0.1} \\theta^{2} - 12 L m_{1} m_{2} t_{0.1}^{2} \\theta^{2} + 6 L m_{1} m_{2} t_{0.1x0.1} \\theta^{2} + 6 L m_{1} m_{2} t_{0.2x1.2} \\theta^{2} + 3 L m_{1} m_{2} t_{0x0} \\theta^{2} + 12 L m_{1} m_{2} t_{1x0.1} \\theta^{2} + L m_{3} t_{0} \\theta + 2 L m_{3} t_{0.1} \\theta$$"
      ],
      "text/plain": [
       " 3   3   3  3      3   3   2        3       3   3         2  3      3   3     \n",
       "L ⋅m₁ ⋅t₀ ⋅θ  + 6⋅L ⋅m₁ ⋅t₀ ⋅t_0.1⋅θ  + 12⋅L ⋅m₁ ⋅t₀⋅t_0.1 ⋅θ  + 8⋅L ⋅m₁ ⋅t_0.\n",
       "\n",
       " 3  3      2   3   3  3       2   3   2        3       2   3         2  3     \n",
       "1 ⋅θ  - 3⋅L ⋅m₁ ⋅t₀ ⋅θ  - 18⋅L ⋅m₁ ⋅t₀ ⋅t_0.1⋅θ  - 36⋅L ⋅m₁ ⋅t₀⋅t_0.1 ⋅θ  + 6⋅\n",
       "\n",
       " 2   3               3      2   3               3      2   3          3       \n",
       "L ⋅m₁ ⋅t₀⋅t_0.1x0.1⋅θ  + 6⋅L ⋅m₁ ⋅t₀⋅t_0.2x1.2⋅θ  + 3⋅L ⋅m₁ ⋅t₀⋅t₀ₓ₀⋅θ  + 12⋅L\n",
       "\n",
       "2   3             3       2   3      3  3       2   3                  3      \n",
       " ⋅m₁ ⋅t₀⋅t_1x0.1⋅θ  - 24⋅L ⋅m₁ ⋅t_0.1 ⋅θ  + 12⋅L ⋅m₁ ⋅t_0.1⋅t_0.1x0.1⋅θ  + 12⋅\n",
       "\n",
       " 2   3                  3      2   3             3       2   3                \n",
       "L ⋅m₁ ⋅t_0.1⋅t_0.2x1.2⋅θ  + 6⋅L ⋅m₁ ⋅t_0.1⋅t₀ₓ₀⋅θ  + 24⋅L ⋅m₁ ⋅t_0.1⋅t_1x0.1⋅θ\n",
       "\n",
       "3      2         2  2       2                 2       2            2  2       \n",
       "  + 3⋅L ⋅m₁⋅m₂⋅t₀ ⋅θ  + 12⋅L ⋅m₁⋅m₂⋅t₀⋅t_0.1⋅θ  + 12⋅L ⋅m₁⋅m₂⋅t_0.1 ⋅θ  + 2⋅L⋅\n",
       "\n",
       "  3   3  3          3   2        3          3         2  3         3          \n",
       "m₁ ⋅t₀ ⋅θ  + 12⋅L⋅m₁ ⋅t₀ ⋅t_0.1⋅θ  + 24⋅L⋅m₁ ⋅t₀⋅t_0.1 ⋅θ  - 6⋅L⋅m₁ ⋅t₀⋅t_0.1x\n",
       "\n",
       "     3         3               3         3          3          3             3\n",
       "0.1⋅θ  - 6⋅L⋅m₁ ⋅t₀⋅t_0.2x1.2⋅θ  - 3⋅L⋅m₁ ⋅t₀⋅t₀ₓ₀⋅θ  - 12⋅L⋅m₁ ⋅t₀⋅t_1x0.1⋅θ \n",
       "\n",
       "          3      3  3          3                  3          3                \n",
       " + 16⋅L⋅m₁ ⋅t_0.1 ⋅θ  - 12⋅L⋅m₁ ⋅t_0.1⋅t_0.1x0.1⋅θ  - 12⋅L⋅m₁ ⋅t_0.1⋅t_0.2x1.2\n",
       "\n",
       "  3         3             3          3                3         3             \n",
       "⋅θ  - 6⋅L⋅m₁ ⋅t_0.1⋅t₀ₓ₀⋅θ  - 24⋅L⋅m₁ ⋅t_0.1⋅t_1x0.1⋅θ  + 2⋅L⋅m₁ ⋅t_0.1x0.1x0.\n",
       "\n",
       "   3         3                3       3         3         3                3  \n",
       "1⋅θ  + 3⋅L⋅m₁ ⋅t_0.2x1.2x1.2⋅θ  + L⋅m₁ ⋅t₀ₓ₀ₓ₀⋅θ  + 3⋅L⋅m₁ ⋅t_1.2x1.2x0.2⋅θ  +\n",
       "\n",
       "       3              3         3            3         3              3       \n",
       " 6⋅L⋅m₁ ⋅t_1x0.1x0.1⋅θ  + 6⋅L⋅m₁ ⋅t_1x1x0.1⋅θ  + 6⋅L⋅m₁ ⋅t_2x0.2x1.2⋅θ  - 3⋅L⋅\n",
       "\n",
       "        2  2                        2                   2  2                  \n",
       "m₁⋅m₂⋅t₀ ⋅θ  - 12⋅L⋅m₁⋅m₂⋅t₀⋅t_0.1⋅θ  - 12⋅L⋅m₁⋅m₂⋅t_0.1 ⋅θ  + 6⋅L⋅m₁⋅m₂⋅t_0.1\n",
       "\n",
       "      2                        2                   2                       2  \n",
       "x0.1⋅θ  + 6⋅L⋅m₁⋅m₂⋅t_0.2x1.2⋅θ  + 3⋅L⋅m₁⋅m₂⋅t₀ₓ₀⋅θ  + 12⋅L⋅m₁⋅m₂⋅t_1x0.1⋅θ  +\n",
       "\n",
       "                           \n",
       " L⋅m₃⋅t₀⋅θ + 2⋅L⋅m₃⋅t_0.1⋅θ"
      ]
     },
     "execution_count": 13,
     "metadata": {},
     "output_type": "execute_result"
    }
   ],
   "source": [
    "mom_x1x1x1_3 = test_mgf_3.calc_moment(pows = [3,0,0], approx_type = \"exchangeable\").simplify().expand()\n",
    "mom_x1x1x1_3"
   ]
  },
  {
   "cell_type": "code",
   "execution_count": 14,
   "metadata": {
    "scrolled": true
   },
   "outputs": [
    {
     "name": "stdout",
     "output_type": "stream",
     "text": [
      "making mgf approx...\n",
      "mgf already created!\n",
      "simplifying mgf...\n",
      "taking derivative k_0 order 1\n",
      "taking derivative k_0 order 2\n",
      "taking derivative k_1 order 1\n"
     ]
    },
    {
     "data": {
      "image/png": "[encoded data removed]",
      "text/latex": [
       "$$L^{3} m_{1}^{3} t_{0}^{3} \\theta^{3} + 6 L^{3} m_{1}^{3} t_{0}^{2} t_{0.1} \\theta^{3} + 12 L^{3} m_{1}^{3} t_{0} t_{0.1}^{2} \\theta^{3} + 8 L^{3} m_{1}^{3} t_{0.1}^{3} \\theta^{3} - 3 L^{2} m_{1}^{3} t_{0}^{3} \\theta^{3} - 18 L^{2} m_{1}^{3} t_{0}^{2} t_{0.1} \\theta^{3} - 36 L^{2} m_{1}^{3} t_{0} t_{0.1}^{2} \\theta^{3} + 4 L^{2} m_{1}^{3} t_{0} t_{0.1x0.1} \\theta^{3} + 8 L^{2} m_{1}^{3} t_{0} t_{0.2x1.2} \\theta^{3} + L^{2} m_{1}^{3} t_{0} t_{0x0} \\theta^{3} + 2 L^{2} m_{1}^{3} t_{0} t_{0x1} \\theta^{3} + 4 L^{2} m_{1}^{3} t_{0} t_{0x1.2} \\theta^{3} + 8 L^{2} m_{1}^{3} t_{0} t_{1x0.1} \\theta^{3} - 24 L^{2} m_{1}^{3} t_{0.1}^{3} \\theta^{3} + 8 L^{2} m_{1}^{3} t_{0.1} t_{0.1x0.1} \\theta^{3} + 16 L^{2} m_{1}^{3} t_{0.1} t_{0.2x1.2} \\theta^{3} + 2 L^{2} m_{1}^{3} t_{0.1} t_{0x0} \\theta^{3} + 4 L^{2} m_{1}^{3} t_{0.1} t_{0x1} \\theta^{3} + 8 L^{2} m_{1}^{3} t_{0.1} t_{0x1.2} \\theta^{3} + 16 L^{2} m_{1}^{3} t_{0.1} t_{1x0.1} \\theta^{3} + L^{2} m_{1} m_{2} t_{0}^{2} \\theta^{2} + 6 L^{2} m_{1} m_{2} t_{0} t_{0.1} \\theta^{2} + 8 L^{2} m_{1} m_{2} t_{0.1}^{2} \\theta^{2} + 2 L m_{1}^{3} t_{0}^{3} \\theta^{3} + 12 L m_{1}^{3} t_{0}^{2} t_{0.1} \\theta^{3} + 24 L m_{1}^{3} t_{0} t_{0.1}^{2} \\theta^{3} - 4 L m_{1}^{3} t_{0} t_{0.1x0.1} \\theta^{3} - 8 L m_{1}^{3} t_{0} t_{0.2x1.2} \\theta^{3} - L m_{1}^{3} t_{0} t_{0x0} \\theta^{3} - 2 L m_{1}^{3} t_{0} t_{0x1} \\theta^{3} - 4 L m_{1}^{3} t_{0} t_{0x1.2} \\theta^{3} - 8 L m_{1}^{3} t_{0} t_{1x0.1} \\theta^{3} + 16 L m_{1}^{3} t_{0.1}^{3} \\theta^{3} - 8 L m_{1}^{3} t_{0.1} t_{0.1x0.1} \\theta^{3} - 16 L m_{1}^{3} t_{0.1} t_{0.2x1.2} \\theta^{3} - 2 L m_{1}^{3} t_{0.1} t_{0x0} \\theta^{3} - 4 L m_{1}^{3} t_{0.1} t_{0x1} \\theta^{3} - 8 L m_{1}^{3} t_{0.1} t_{0x1.2} \\theta^{3} - 16 L m_{1}^{3} t_{0.1} t_{1x0.1} \\theta^{3} + L m_{1}^{3} t_{0.1x0.1x0.1} \\theta^{3} + 2 L m_{1}^{3} t_{0.1x0.2x1.2} \\theta^{3} + L m_{1}^{3} t_{0.2x1.2x1.2} \\theta^{3} + L m_{1}^{3} t_{0x1.2x1.2} \\theta^{3} + 2 L m_{1}^{3} t_{0x1x0.1} \\theta^{3} + 4 L m_{1}^{3} t_{1.2x1.2x0.2} \\theta^{3} + 3 L m_{1}^{3} t_{1x0.1x0.1} \\theta^{3} + 6 L m_{1}^{3} t_{1x1.2x0.2} \\theta^{3} + L m_{1}^{3} t_{1x1x0} \\theta^{3} + L m_{1}^{3} t_{1x1x0.1} \\theta^{3} + 2 L m_{1}^{3} t_{2x0.2x1.2} \\theta^{3} + 2 L m_{1}^{3} t_{2x0x1.2} \\theta^{3} + L m_{1}^{3} t_{2x2x0.1} \\theta^{3} - L m_{1} m_{2} t_{0}^{2} \\theta^{2} - 6 L m_{1} m_{2} t_{0} t_{0.1} \\theta^{2} - 8 L m_{1} m_{2} t_{0.1}^{2} \\theta^{2} + 3 L m_{1} m_{2} t_{0.1x0.1} \\theta^{2} + 5 L m_{1} m_{2} t_{0.2x1.2} \\theta^{2} + L m_{1} m_{2} t_{0x1} \\theta^{2} + 2 L m_{1} m_{2} t_{0x1.2} \\theta^{2} + 4 L m_{1} m_{2} t_{1x0.1} \\theta^{2} + L m_{3} t_{0.1} \\theta$$"
      ],
      "text/plain": [
       " 3   3   3  3      3   3   2        3       3   3         2  3      3   3     \n",
       "L ⋅m₁ ⋅t₀ ⋅θ  + 6⋅L ⋅m₁ ⋅t₀ ⋅t_0.1⋅θ  + 12⋅L ⋅m₁ ⋅t₀⋅t_0.1 ⋅θ  + 8⋅L ⋅m₁ ⋅t_0.\n",
       "\n",
       " 3  3      2   3   3  3       2   3   2        3       2   3         2  3     \n",
       "1 ⋅θ  - 3⋅L ⋅m₁ ⋅t₀ ⋅θ  - 18⋅L ⋅m₁ ⋅t₀ ⋅t_0.1⋅θ  - 36⋅L ⋅m₁ ⋅t₀⋅t_0.1 ⋅θ  + 4⋅\n",
       "\n",
       " 2   3               3      2   3               3    2   3          3      2  \n",
       "L ⋅m₁ ⋅t₀⋅t_0.1x0.1⋅θ  + 8⋅L ⋅m₁ ⋅t₀⋅t_0.2x1.2⋅θ  + L ⋅m₁ ⋅t₀⋅t₀ₓ₀⋅θ  + 2⋅L ⋅m\n",
       "\n",
       " 3          3      2   3             3      2   3             3       2   3   \n",
       "₁ ⋅t₀⋅t₀ₓ₁⋅θ  + 4⋅L ⋅m₁ ⋅t₀⋅t_0x1.2⋅θ  + 8⋅L ⋅m₁ ⋅t₀⋅t_1x0.1⋅θ  - 24⋅L ⋅m₁ ⋅t_\n",
       "\n",
       "   3  3      2   3                  3       2   3                  3      2   \n",
       "0.1 ⋅θ  + 8⋅L ⋅m₁ ⋅t_0.1⋅t_0.1x0.1⋅θ  + 16⋅L ⋅m₁ ⋅t_0.1⋅t_0.2x1.2⋅θ  + 2⋅L ⋅m₁\n",
       "\n",
       "3             3      2   3             3      2   3                3       2  \n",
       " ⋅t_0.1⋅t₀ₓ₀⋅θ  + 4⋅L ⋅m₁ ⋅t_0.1⋅t₀ₓ₁⋅θ  + 8⋅L ⋅m₁ ⋅t_0.1⋅t_0x1.2⋅θ  + 16⋅L ⋅m\n",
       "\n",
       " 3                3    2         2  2      2                 2      2         \n",
       "₁ ⋅t_0.1⋅t_1x0.1⋅θ  + L ⋅m₁⋅m₂⋅t₀ ⋅θ  + 6⋅L ⋅m₁⋅m₂⋅t₀⋅t_0.1⋅θ  + 8⋅L ⋅m₁⋅m₂⋅t_\n",
       "\n",
       "   2  2         3   3  3          3   2        3          3         2  3      \n",
       "0.1 ⋅θ  + 2⋅L⋅m₁ ⋅t₀ ⋅θ  + 12⋅L⋅m₁ ⋅t₀ ⋅t_0.1⋅θ  + 24⋅L⋅m₁ ⋅t₀⋅t_0.1 ⋅θ  - 4⋅L\n",
       "\n",
       "   3               3         3               3       3          3         3   \n",
       "⋅m₁ ⋅t₀⋅t_0.1x0.1⋅θ  - 8⋅L⋅m₁ ⋅t₀⋅t_0.2x1.2⋅θ  - L⋅m₁ ⋅t₀⋅t₀ₓ₀⋅θ  - 2⋅L⋅m₁ ⋅t₀\n",
       "\n",
       "       3         3             3         3             3          3      3  3 \n",
       "⋅t₀ₓ₁⋅θ  - 4⋅L⋅m₁ ⋅t₀⋅t_0x1.2⋅θ  - 8⋅L⋅m₁ ⋅t₀⋅t_1x0.1⋅θ  + 16⋅L⋅m₁ ⋅t_0.1 ⋅θ  \n",
       "\n",
       "        3                  3          3                  3         3          \n",
       "- 8⋅L⋅m₁ ⋅t_0.1⋅t_0.1x0.1⋅θ  - 16⋅L⋅m₁ ⋅t_0.1⋅t_0.2x1.2⋅θ  - 2⋅L⋅m₁ ⋅t_0.1⋅t₀ₓ\n",
       "\n",
       "   3         3             3         3                3          3            \n",
       "₀⋅θ  - 4⋅L⋅m₁ ⋅t_0.1⋅t₀ₓ₁⋅θ  - 8⋅L⋅m₁ ⋅t_0.1⋅t_0x1.2⋅θ  - 16⋅L⋅m₁ ⋅t_0.1⋅t_1x0\n",
       "\n",
       "    3       3                3         3                3       3             \n",
       ".1⋅θ  + L⋅m₁ ⋅t_0.1x0.1x0.1⋅θ  + 2⋅L⋅m₁ ⋅t_0.1x0.2x1.2⋅θ  + L⋅m₁ ⋅t_0.2x1.2x1.\n",
       "\n",
       "   3       3              3         3            3         3                3 \n",
       "2⋅θ  + L⋅m₁ ⋅t_0x1.2x1.2⋅θ  + 2⋅L⋅m₁ ⋅t_0x1x0.1⋅θ  + 4⋅L⋅m₁ ⋅t_1.2x1.2x0.2⋅θ  \n",
       "\n",
       "        3              3         3              3       3         3       3   \n",
       "+ 3⋅L⋅m₁ ⋅t_1x0.1x0.1⋅θ  + 6⋅L⋅m₁ ⋅t_1x1.2x0.2⋅θ  + L⋅m₁ ⋅t₁ₓ₁ₓ₀⋅θ  + L⋅m₁ ⋅t_\n",
       "\n",
       "         3         3              3         3            3       3            \n",
       "1x1x0.1⋅θ  + 2⋅L⋅m₁ ⋅t_2x0.2x1.2⋅θ  + 2⋅L⋅m₁ ⋅t_2x0x1.2⋅θ  + L⋅m₁ ⋅t_2x2x0.1⋅θ\n",
       "\n",
       "3             2  2                       2                  2  2              \n",
       "  - L⋅m₁⋅m₂⋅t₀ ⋅θ  - 6⋅L⋅m₁⋅m₂⋅t₀⋅t_0.1⋅θ  - 8⋅L⋅m₁⋅m₂⋅t_0.1 ⋅θ  + 3⋅L⋅m₁⋅m₂⋅t\n",
       "\n",
       "          2                        2                 2                      2 \n",
       "_0.1x0.1⋅θ  + 5⋅L⋅m₁⋅m₂⋅t_0.2x1.2⋅θ  + L⋅m₁⋅m₂⋅t₀ₓ₁⋅θ  + 2⋅L⋅m₁⋅m₂⋅t_0x1.2⋅θ  \n",
       "\n",
       "                     2               \n",
       "+ 4⋅L⋅m₁⋅m₂⋅t_1x0.1⋅θ  + L⋅m₃⋅t_0.1⋅θ"
      ]
     },
     "execution_count": 14,
     "metadata": {},
     "output_type": "execute_result"
    }
   ],
   "source": [
    "mom_x1x1x2_3 = test_mgf_3.calc_moment(pows = [2,1,0], approx_type = \"exchangeable\").simplify().expand()\n",
    "mom_x1x1x2_3"
   ]
  },
  {
   "cell_type": "code",
   "execution_count": 15,
   "metadata": {
    "scrolled": true
   },
   "outputs": [
    {
     "data": {
      "image/png": "[encoded data removed]",
      "text/latex": [
       "$$L^{3} T_{2.1n3}^{3} m_{1}^{3} \\theta^{3} + 3 L^{3} T_{2.1n3}^{2} T_{3.1n3} m_{1}^{3} \\theta^{3} + 3 L^{3} T_{2.1n3} T_{3.1n3}^{2} m_{1}^{3} \\theta^{3} + L^{3} T_{3.1n3}^{3} m_{1}^{3} \\theta^{3} - 3 L^{2} T_{2.1n3}^{3} m_{1}^{3} \\theta^{3} - 9 L^{2} T_{2.1n3}^{2} T_{3.1n3} m_{1}^{3} \\theta^{3} + \\frac{5 m_{1}}{3} L^{2} T_{2.1n3}^{2} m_{2} \\theta^{2} + 3 L^{2} T_{2.1n3} T_{2.2n3} m_{1}^{3} \\theta^{3} - 9 L^{2} T_{2.1n3} T_{3.1n3}^{2} m_{1}^{3} \\theta^{3} + \\frac{8 T_{2.1n3}}{3} L^{2} T_{3.1n3} m_{1} m_{2} \\theta^{2} + 6 L^{2} T_{2.1n3} T_{3.1x2.1n3} m_{1}^{3} \\theta^{3} + 3 L^{2} T_{2.1n3} T_{3.2n3} m_{1}^{3} \\theta^{3} + 3 L^{2} T_{2.2n3} T_{3.1n3} m_{1}^{3} \\theta^{3} - 3 L^{2} T_{3.1n3}^{3} m_{1}^{3} \\theta^{3} + L^{2} T_{3.1n3}^{2} m_{1} m_{2} \\theta^{2} + 6 L^{2} T_{3.1n3} T_{3.1x2.1n3} m_{1}^{3} \\theta^{3} + 3 L^{2} T_{3.1n3} T_{3.2n3} m_{1}^{3} \\theta^{3} + 2 L T_{2.1n3}^{3} m_{1}^{3} \\theta^{3} + 6 L T_{2.1n3}^{2} T_{3.1n3} m_{1}^{3} \\theta^{3} - \\frac{5 L}{3} T_{2.1n3}^{2} m_{1} m_{2} \\theta^{2} - 3 L T_{2.1n3} T_{2.2n3} m_{1}^{3} \\theta^{3} + 6 L T_{2.1n3} T_{3.1n3}^{2} m_{1}^{3} \\theta^{3} - \\frac{8 L}{3} T_{2.1n3} T_{3.1n3} m_{1} m_{2} \\theta^{2} - 6 L T_{2.1n3} T_{3.1x2.1n3} m_{1}^{3} \\theta^{3} - 3 L T_{2.1n3} T_{3.2n3} m_{1}^{3} \\theta^{3} + \\frac{L T_{2.1n3}}{3} m_{3} \\theta - 3 L T_{2.2n3} T_{3.1n3} m_{1}^{3} \\theta^{3} + \\frac{5 L}{3} T_{2.2n3} m_{1} m_{2} \\theta^{2} + L T_{2.3n3} m_{1}^{3} \\theta^{3} + 2 L T_{3.1n3}^{3} m_{1}^{3} \\theta^{3} - L T_{3.1n3}^{2} m_{1} m_{2} \\theta^{2} - 6 L T_{3.1n3} T_{3.1x2.1n3} m_{1}^{3} \\theta^{3} - 3 L T_{3.1n3} T_{3.2n3} m_{1}^{3} \\theta^{3} + \\frac{8 L}{3} T_{3.1x2.1n3} m_{1} m_{2} \\theta^{2} + 3 L T_{3.1x2.2n3} m_{1}^{3} \\theta^{3} + L T_{3.2n3} m_{1} m_{2} \\theta^{2} + 3 L T_{3.2x2.1n3} m_{1}^{3} \\theta^{3} + L T_{3.3n3} m_{1}^{3} \\theta^{3}$$"
      ],
      "text/plain": [
       "                                                                              \n",
       " 3        3   3  3      3        2           3  3      3                2   3 \n",
       "L ⋅T_2.1n3 ⋅m₁ ⋅θ  + 3⋅L ⋅T_2.1n3 ⋅T_3.1n3⋅m₁ ⋅θ  + 3⋅L ⋅T_2.1n3⋅T_3.1n3 ⋅m₁ ⋅\n",
       "                                                                              \n",
       "\n",
       "                                                                              \n",
       " 3    3        3   3  3      2        3   3  3      2        2           3  3 \n",
       "θ  + L ⋅T_3.1n3 ⋅m₁ ⋅θ  - 3⋅L ⋅T_2.1n3 ⋅m₁ ⋅θ  - 9⋅L ⋅T_2.1n3 ⋅T_3.1n3⋅m₁ ⋅θ  \n",
       "                                                                              \n",
       "\n",
       "     2        2        2                                                      \n",
       "  5⋅L ⋅T_2.1n3 ⋅m₁⋅m₂⋅θ       2                   3  3      2                2\n",
       "+ ────────────────────── + 3⋅L ⋅T_2.1n3⋅T_2.2n3⋅m₁ ⋅θ  - 9⋅L ⋅T_2.1n3⋅T_3.1n3 \n",
       "            3                                                                 \n",
       "\n",
       "             2                        2                                       \n",
       "   3  3   8⋅L ⋅T_2.1n3⋅T_3.1n3⋅m₁⋅m₂⋅θ       2                       3  3     \n",
       "⋅m₁ ⋅θ  + ───────────────────────────── + 6⋅L ⋅T_2.1n3⋅T_3.1x2.1n3⋅m₁ ⋅θ  + 3⋅\n",
       "                        3                                                     \n",
       "\n",
       "                                                                              \n",
       " 2                   3  3      2                   3  3      2        3   3  3\n",
       "L ⋅T_2.1n3⋅T_3.2n3⋅m₁ ⋅θ  + 3⋅L ⋅T_2.2n3⋅T_3.1n3⋅m₁ ⋅θ  - 3⋅L ⋅T_3.1n3 ⋅m₁ ⋅θ \n",
       "                                                                              \n",
       "\n",
       "                                                                              \n",
       "    2        2        2      2                       3  3      2              \n",
       " + L ⋅T_3.1n3 ⋅m₁⋅m₂⋅θ  + 6⋅L ⋅T_3.1n3⋅T_3.1x2.1n3⋅m₁ ⋅θ  + 3⋅L ⋅T_3.1n3⋅T_3.2\n",
       "                                                                              \n",
       "\n",
       "                                                                           2  \n",
       "     3  3              3   3  3              2           3  3   5⋅L⋅T_2.1n3 ⋅m\n",
       "n3⋅m₁ ⋅θ  + 2⋅L⋅T_2.1n3 ⋅m₁ ⋅θ  + 6⋅L⋅T_2.1n3 ⋅T_3.1n3⋅m₁ ⋅θ  - ──────────────\n",
       "                                                                          3   \n",
       "\n",
       "      2                                                                       \n",
       "₁⋅m₂⋅θ                          3  3                      2   3  3   8⋅L⋅T_2.1\n",
       "─────── - 3⋅L⋅T_2.1n3⋅T_2.2n3⋅m₁ ⋅θ  + 6⋅L⋅T_2.1n3⋅T_3.1n3 ⋅m₁ ⋅θ  - ─────────\n",
       "                                                                              \n",
       "\n",
       "                  2                                                           \n",
       "n3⋅T_3.1n3⋅m₁⋅m₂⋅θ                              3  3                         3\n",
       "─────────────────── - 6⋅L⋅T_2.1n3⋅T_3.1x2.1n3⋅m₁ ⋅θ  - 3⋅L⋅T_2.1n3⋅T_3.2n3⋅m₁ \n",
       "    3                                                                         \n",
       "\n",
       "                                                                       2      \n",
       "  3   L⋅T_2.1n3⋅m₃⋅θ                         3  3   5⋅L⋅T_2.2n3⋅m₁⋅m₂⋅θ       \n",
       "⋅θ  + ────────────── - 3⋅L⋅T_2.2n3⋅T_3.1n3⋅m₁ ⋅θ  + ──────────────────── + L⋅T\n",
       "            3                                                3                \n",
       "\n",
       "                                                                              \n",
       "         3  3              3   3  3            2        2                     \n",
       "_2.3n3⋅m₁ ⋅θ  + 2⋅L⋅T_3.1n3 ⋅m₁ ⋅θ  - L⋅T_3.1n3 ⋅m₁⋅m₂⋅θ  - 6⋅L⋅T_3.1n3⋅T_3.1x\n",
       "                                                                              \n",
       "\n",
       "                                                                   2          \n",
       "        3  3                         3  3   8⋅L⋅T_3.1x2.1n3⋅m₁⋅m₂⋅θ           \n",
       "2.1n3⋅m₁ ⋅θ  - 3⋅L⋅T_3.1n3⋅T_3.2n3⋅m₁ ⋅θ  + ──────────────────────── + 3⋅L⋅T_3\n",
       "                                                       3                      \n",
       "\n",
       "                                                                              \n",
       "           3  3                    2                     3  3               3 \n",
       ".1x2.2n3⋅m₁ ⋅θ  + L⋅T_3.2n3⋅m₁⋅m₂⋅θ  + 3⋅L⋅T_3.2x2.1n3⋅m₁ ⋅θ  + L⋅T_3.3n3⋅m₁ ⋅\n",
       "                                                                              \n",
       "\n",
       "  \n",
       " 3\n",
       "θ \n",
       "  "
      ]
     },
     "execution_count": 15,
     "metadata": {},
     "output_type": "execute_result"
    }
   ],
   "source": [
    "mgf_math.sub_all_ti(mom_x1x1x2_3, [['0'], ['1'], ['2']]).simplify().expand()"
   ]
  },
  {
   "cell_type": "code",
   "execution_count": 16,
   "metadata": {
    "scrolled": true
   },
   "outputs": [
    {
     "name": "stdout",
     "output_type": "stream",
     "text": [
      "making mgf approx...\n",
      "mgf already created!\n",
      "simplifying mgf...\n",
      "taking derivative k_0 order 1\n",
      "taking derivative k_1 order 1\n",
      "taking derivative k_2 order 1\n"
     ]
    },
    {
     "data": {
      "image/png": "[encoded data removed]",
      "text/latex": [
       "$$L^{3} m_{1}^{3} t_{0}^{3} \\theta^{3} + 6 L^{3} m_{1}^{3} t_{0}^{2} t_{0.1} \\theta^{3} + 12 L^{3} m_{1}^{3} t_{0} t_{0.1}^{2} \\theta^{3} + 8 L^{3} m_{1}^{3} t_{0.1}^{3} \\theta^{3} - 3 L^{2} m_{1}^{3} t_{0}^{3} \\theta^{3} - 18 L^{2} m_{1}^{3} t_{0}^{2} t_{0.1} \\theta^{3} - 36 L^{2} m_{1}^{3} t_{0} t_{0.1}^{2} \\theta^{3} + 3 L^{2} m_{1}^{3} t_{0} t_{0.1x0.1} \\theta^{3} + 9 L^{2} m_{1}^{3} t_{0} t_{0.2x1.2} \\theta^{3} + 3 L^{2} m_{1}^{3} t_{0} t_{0x1} \\theta^{3} + 6 L^{2} m_{1}^{3} t_{0} t_{0x1.2} \\theta^{3} + 6 L^{2} m_{1}^{3} t_{0} t_{1x0.1} \\theta^{3} - 24 L^{2} m_{1}^{3} t_{0.1}^{3} \\theta^{3} + 6 L^{2} m_{1}^{3} t_{0.1} t_{0.1x0.1} \\theta^{3} + 18 L^{2} m_{1}^{3} t_{0.1} t_{0.2x1.2} \\theta^{3} + 6 L^{2} m_{1}^{3} t_{0.1} t_{0x1} \\theta^{3} + 12 L^{2} m_{1}^{3} t_{0.1} t_{0x1.2} \\theta^{3} + 12 L^{2} m_{1}^{3} t_{0.1} t_{1x0.1} \\theta^{3} + 3 L^{2} m_{1} m_{2} t_{0} t_{0.1} \\theta^{2} + 6 L^{2} m_{1} m_{2} t_{0.1}^{2} \\theta^{2} + 2 L m_{1}^{3} t_{0}^{3} \\theta^{3} + 12 L m_{1}^{3} t_{0}^{2} t_{0.1} \\theta^{3} + 24 L m_{1}^{3} t_{0} t_{0.1}^{2} \\theta^{3} - 3 L m_{1}^{3} t_{0} t_{0.1x0.1} \\theta^{3} - 9 L m_{1}^{3} t_{0} t_{0.2x1.2} \\theta^{3} - 3 L m_{1}^{3} t_{0} t_{0x1} \\theta^{3} - 6 L m_{1}^{3} t_{0} t_{0x1.2} \\theta^{3} - 6 L m_{1}^{3} t_{0} t_{1x0.1} \\theta^{3} + 16 L m_{1}^{3} t_{0.1}^{3} \\theta^{3} - 6 L m_{1}^{3} t_{0.1} t_{0.1x0.1} \\theta^{3} - 18 L m_{1}^{3} t_{0.1} t_{0.2x1.2} \\theta^{3} - 6 L m_{1}^{3} t_{0.1} t_{0x1} \\theta^{3} - 12 L m_{1}^{3} t_{0.1} t_{0x1.2} \\theta^{3} - 12 L m_{1}^{3} t_{0.1} t_{1x0.1} \\theta^{3} + 2 L m_{1}^{3} t_{0.1x0.2x1.2} \\theta^{3} + 3 L m_{1}^{3} t_{0.2x1.2x1.2} \\theta^{3} + 3 L m_{1}^{3} t_{0x1.2x1.2} \\theta^{3} + L m_{1}^{3} t_{0x1x2} \\theta^{3} + 3 L m_{1}^{3} t_{0x2x1.2} \\theta^{3} + 3 L m_{1}^{3} t_{1.2x1.2x0.2} \\theta^{3} + 3 L m_{1}^{3} t_{1x0.2x1.2} \\theta^{3} + 3 L m_{1}^{3} t_{1x1.2x0.2} \\theta^{3} + 3 L m_{1}^{3} t_{2x0.2x1.2} \\theta^{3} + 3 L m_{1}^{3} t_{2x0x1.2} \\theta^{3} - 3 L m_{1} m_{2} t_{0} t_{0.1} \\theta^{2} - 6 L m_{1} m_{2} t_{0.1}^{2} \\theta^{2} + 6 L m_{1} m_{2} t_{0.2x1.2} \\theta^{2} + 3 L m_{1} m_{2} t_{0x1.2} \\theta^{2}$$"
      ],
      "text/plain": [
       " 3   3   3  3      3   3   2        3       3   3         2  3      3   3     \n",
       "L ⋅m₁ ⋅t₀ ⋅θ  + 6⋅L ⋅m₁ ⋅t₀ ⋅t_0.1⋅θ  + 12⋅L ⋅m₁ ⋅t₀⋅t_0.1 ⋅θ  + 8⋅L ⋅m₁ ⋅t_0.\n",
       "\n",
       " 3  3      2   3   3  3       2   3   2        3       2   3         2  3     \n",
       "1 ⋅θ  - 3⋅L ⋅m₁ ⋅t₀ ⋅θ  - 18⋅L ⋅m₁ ⋅t₀ ⋅t_0.1⋅θ  - 36⋅L ⋅m₁ ⋅t₀⋅t_0.1 ⋅θ  + 3⋅\n",
       "\n",
       " 2   3               3      2   3               3      2   3          3      2\n",
       "L ⋅m₁ ⋅t₀⋅t_0.1x0.1⋅θ  + 9⋅L ⋅m₁ ⋅t₀⋅t_0.2x1.2⋅θ  + 3⋅L ⋅m₁ ⋅t₀⋅t₀ₓ₁⋅θ  + 6⋅L \n",
       "\n",
       "   3             3      2   3             3       2   3      3  3      2   3  \n",
       "⋅m₁ ⋅t₀⋅t_0x1.2⋅θ  + 6⋅L ⋅m₁ ⋅t₀⋅t_1x0.1⋅θ  - 24⋅L ⋅m₁ ⋅t_0.1 ⋅θ  + 6⋅L ⋅m₁ ⋅t\n",
       "\n",
       "                3       2   3                  3      2   3             3     \n",
       "_0.1⋅t_0.1x0.1⋅θ  + 18⋅L ⋅m₁ ⋅t_0.1⋅t_0.2x1.2⋅θ  + 6⋅L ⋅m₁ ⋅t_0.1⋅t₀ₓ₁⋅θ  + 12\n",
       "\n",
       "  2   3                3       2   3                3      2                 2\n",
       "⋅L ⋅m₁ ⋅t_0.1⋅t_0x1.2⋅θ  + 12⋅L ⋅m₁ ⋅t_0.1⋅t_1x0.1⋅θ  + 3⋅L ⋅m₁⋅m₂⋅t₀⋅t_0.1⋅θ \n",
       "\n",
       "      2            2  2         3   3  3          3   2        3          3   \n",
       " + 6⋅L ⋅m₁⋅m₂⋅t_0.1 ⋅θ  + 2⋅L⋅m₁ ⋅t₀ ⋅θ  + 12⋅L⋅m₁ ⋅t₀ ⋅t_0.1⋅θ  + 24⋅L⋅m₁ ⋅t₀\n",
       "\n",
       "      2  3         3               3         3               3         3      \n",
       "⋅t_0.1 ⋅θ  - 3⋅L⋅m₁ ⋅t₀⋅t_0.1x0.1⋅θ  - 9⋅L⋅m₁ ⋅t₀⋅t_0.2x1.2⋅θ  - 3⋅L⋅m₁ ⋅t₀⋅t₀\n",
       "\n",
       "    3         3             3         3             3          3      3  3    \n",
       "ₓ₁⋅θ  - 6⋅L⋅m₁ ⋅t₀⋅t_0x1.2⋅θ  - 6⋅L⋅m₁ ⋅t₀⋅t_1x0.1⋅θ  + 16⋅L⋅m₁ ⋅t_0.1 ⋅θ  - 6\n",
       "\n",
       "     3                  3          3                  3         3             \n",
       "⋅L⋅m₁ ⋅t_0.1⋅t_0.1x0.1⋅θ  - 18⋅L⋅m₁ ⋅t_0.1⋅t_0.2x1.2⋅θ  - 6⋅L⋅m₁ ⋅t_0.1⋅t₀ₓ₁⋅θ\n",
       "\n",
       "3          3                3          3                3         3           \n",
       "  - 12⋅L⋅m₁ ⋅t_0.1⋅t_0x1.2⋅θ  - 12⋅L⋅m₁ ⋅t_0.1⋅t_1x0.1⋅θ  + 2⋅L⋅m₁ ⋅t_0.1x0.2x\n",
       "\n",
       "     3         3                3         3              3       3         3  \n",
       "1.2⋅θ  + 3⋅L⋅m₁ ⋅t_0.2x1.2x1.2⋅θ  + 3⋅L⋅m₁ ⋅t_0x1.2x1.2⋅θ  + L⋅m₁ ⋅t₀ₓ₁ₓ₂⋅θ  +\n",
       "\n",
       "       3            3         3                3         3              3     \n",
       " 3⋅L⋅m₁ ⋅t_0x2x1.2⋅θ  + 3⋅L⋅m₁ ⋅t_1.2x1.2x0.2⋅θ  + 3⋅L⋅m₁ ⋅t_1x0.2x1.2⋅θ  + 3⋅\n",
       "\n",
       "    3              3         3              3         3            3          \n",
       "L⋅m₁ ⋅t_1x1.2x0.2⋅θ  + 3⋅L⋅m₁ ⋅t_2x0.2x1.2⋅θ  + 3⋅L⋅m₁ ⋅t_2x0x1.2⋅θ  - 3⋅L⋅m₁⋅\n",
       "\n",
       "             2                  2  2                        2                 \n",
       "m₂⋅t₀⋅t_0.1⋅θ  - 6⋅L⋅m₁⋅m₂⋅t_0.1 ⋅θ  + 6⋅L⋅m₁⋅m₂⋅t_0.2x1.2⋅θ  + 3⋅L⋅m₁⋅m₂⋅t_0x\n",
       "\n",
       "     2\n",
       "1.2⋅θ "
      ]
     },
     "execution_count": 16,
     "metadata": {},
     "output_type": "execute_result"
    }
   ],
   "source": [
    "mom_x1x2x3_3 = test_mgf_3.calc_moment(pows = [1,1,1], approx_type = \"exchangeable\").simplify().expand()\n",
    "mom_x1x2x3_3"
   ]
  },
  {
   "cell_type": "code",
   "execution_count": 17,
   "metadata": {
    "scrolled": true
   },
   "outputs": [
    {
     "data": {
      "image/png": "[encoded data removed]",
      "text/latex": [
       "$$L^{3} T_{2.1n3}^{3} m_{1}^{3} \\theta^{3} + 3 L^{3} T_{2.1n3}^{2} T_{3.1n3} m_{1}^{3} \\theta^{3} + 3 L^{3} T_{2.1n3} T_{3.1n3}^{2} m_{1}^{3} \\theta^{3} + L^{3} T_{3.1n3}^{3} m_{1}^{3} \\theta^{3} - 3 L^{2} T_{2.1n3}^{3} m_{1}^{3} \\theta^{3} - 9 L^{2} T_{2.1n3}^{2} T_{3.1n3} m_{1}^{3} \\theta^{3} + L^{2} T_{2.1n3}^{2} m_{1} m_{2} \\theta^{2} + 3 L^{2} T_{2.1n3} T_{2.2n3} m_{1}^{3} \\theta^{3} - 9 L^{2} T_{2.1n3} T_{3.1n3}^{2} m_{1}^{3} \\theta^{3} + L^{2} T_{2.1n3} T_{3.1n3} m_{1} m_{2} \\theta^{2} + 6 L^{2} T_{2.1n3} T_{3.1x2.1n3} m_{1}^{3} \\theta^{3} + 3 L^{2} T_{2.1n3} T_{3.2n3} m_{1}^{3} \\theta^{3} + 3 L^{2} T_{2.2n3} T_{3.1n3} m_{1}^{3} \\theta^{3} - 3 L^{2} T_{3.1n3}^{3} m_{1}^{3} \\theta^{3} + 6 L^{2} T_{3.1n3} T_{3.1x2.1n3} m_{1}^{3} \\theta^{3} + 3 L^{2} T_{3.1n3} T_{3.2n3} m_{1}^{3} \\theta^{3} + 2 L T_{2.1n3}^{3} m_{1}^{3} \\theta^{3} + 6 L T_{2.1n3}^{2} T_{3.1n3} m_{1}^{3} \\theta^{3} - L T_{2.1n3}^{2} m_{1} m_{2} \\theta^{2} - 3 L T_{2.1n3} T_{2.2n3} m_{1}^{3} \\theta^{3} + 6 L T_{2.1n3} T_{3.1n3}^{2} m_{1}^{3} \\theta^{3} - L T_{2.1n3} T_{3.1n3} m_{1} m_{2} \\theta^{2} - 6 L T_{2.1n3} T_{3.1x2.1n3} m_{1}^{3} \\theta^{3} - 3 L T_{2.1n3} T_{3.2n3} m_{1}^{3} \\theta^{3} - 3 L T_{2.2n3} T_{3.1n3} m_{1}^{3} \\theta^{3} + L T_{2.2n3} m_{1} m_{2} \\theta^{2} + L T_{2.3n3} m_{1}^{3} \\theta^{3} + 2 L T_{3.1n3}^{3} m_{1}^{3} \\theta^{3} - 6 L T_{3.1n3} T_{3.1x2.1n3} m_{1}^{3} \\theta^{3} - 3 L T_{3.1n3} T_{3.2n3} m_{1}^{3} \\theta^{3} + L T_{3.1x2.1n3} m_{1} m_{2} \\theta^{2} + 3 L T_{3.1x2.2n3} m_{1}^{3} \\theta^{3} + 3 L T_{3.2x2.1n3} m_{1}^{3} \\theta^{3} + L T_{3.3n3} m_{1}^{3} \\theta^{3}$$"
      ],
      "text/plain": [
       " 3        3   3  3      3        2           3  3      3                2   3 \n",
       "L ⋅T_2.1n3 ⋅m₁ ⋅θ  + 3⋅L ⋅T_2.1n3 ⋅T_3.1n3⋅m₁ ⋅θ  + 3⋅L ⋅T_2.1n3⋅T_3.1n3 ⋅m₁ ⋅\n",
       "\n",
       " 3    3        3   3  3      2        3   3  3      2        2           3  3 \n",
       "θ  + L ⋅T_3.1n3 ⋅m₁ ⋅θ  - 3⋅L ⋅T_2.1n3 ⋅m₁ ⋅θ  - 9⋅L ⋅T_2.1n3 ⋅T_3.1n3⋅m₁ ⋅θ  \n",
       "\n",
       "   2        2        2      2                   3  3      2                2  \n",
       "+ L ⋅T_2.1n3 ⋅m₁⋅m₂⋅θ  + 3⋅L ⋅T_2.1n3⋅T_2.2n3⋅m₁ ⋅θ  - 9⋅L ⋅T_2.1n3⋅T_3.1n3 ⋅m\n",
       "\n",
       " 3  3    2                        2      2                       3  3      2  \n",
       "₁ ⋅θ  + L ⋅T_2.1n3⋅T_3.1n3⋅m₁⋅m₂⋅θ  + 6⋅L ⋅T_2.1n3⋅T_3.1x2.1n3⋅m₁ ⋅θ  + 3⋅L ⋅T\n",
       "\n",
       "                 3  3      2                   3  3      2        3   3  3    \n",
       "_2.1n3⋅T_3.2n3⋅m₁ ⋅θ  + 3⋅L ⋅T_2.2n3⋅T_3.1n3⋅m₁ ⋅θ  - 3⋅L ⋅T_3.1n3 ⋅m₁ ⋅θ  + 6\n",
       "\n",
       "  2                       3  3      2                   3  3              3   \n",
       "⋅L ⋅T_3.1n3⋅T_3.1x2.1n3⋅m₁ ⋅θ  + 3⋅L ⋅T_3.1n3⋅T_3.2n3⋅m₁ ⋅θ  + 2⋅L⋅T_2.1n3 ⋅m₁\n",
       "\n",
       "3  3              2           3  3            2        2                      \n",
       " ⋅θ  + 6⋅L⋅T_2.1n3 ⋅T_3.1n3⋅m₁ ⋅θ  - L⋅T_2.1n3 ⋅m₁⋅m₂⋅θ  - 3⋅L⋅T_2.1n3⋅T_2.2n3\n",
       "\n",
       "   3  3                      2   3  3                            2            \n",
       "⋅m₁ ⋅θ  + 6⋅L⋅T_2.1n3⋅T_3.1n3 ⋅m₁ ⋅θ  - L⋅T_2.1n3⋅T_3.1n3⋅m₁⋅m₂⋅θ  - 6⋅L⋅T_2.1\n",
       "\n",
       "                 3  3                         3  3                         3  \n",
       "n3⋅T_3.1x2.1n3⋅m₁ ⋅θ  - 3⋅L⋅T_2.1n3⋅T_3.2n3⋅m₁ ⋅θ  - 3⋅L⋅T_2.2n3⋅T_3.1n3⋅m₁ ⋅θ\n",
       "\n",
       "3                    2               3  3              3   3  3               \n",
       "  + L⋅T_2.2n3⋅m₁⋅m₂⋅θ  + L⋅T_2.3n3⋅m₁ ⋅θ  + 2⋅L⋅T_3.1n3 ⋅m₁ ⋅θ  - 6⋅L⋅T_3.1n3⋅\n",
       "\n",
       "              3  3                         3  3                        2      \n",
       "T_3.1x2.1n3⋅m₁ ⋅θ  - 3⋅L⋅T_3.1n3⋅T_3.2n3⋅m₁ ⋅θ  + L⋅T_3.1x2.1n3⋅m₁⋅m₂⋅θ  + 3⋅L\n",
       "\n",
       "               3  3                     3  3               3  3\n",
       "⋅T_3.1x2.2n3⋅m₁ ⋅θ  + 3⋅L⋅T_3.2x2.1n3⋅m₁ ⋅θ  + L⋅T_3.3n3⋅m₁ ⋅θ "
      ]
     },
     "execution_count": 17,
     "metadata": {},
     "output_type": "execute_result"
    }
   ],
   "source": [
    "mgf_math.sub_all_ti(mom_x1x2x3_3, [['0'], ['1'], ['2']]).simplify().expand()"
   ]
  },
  {
   "cell_type": "markdown",
   "metadata": {},
   "source": [
    "The expression for the expected third central moment in the population is $E[h_3]=E[\\frac{1}{N}\\sum_N(\\bar{Y} - Y_i)^3] = E[Y_1^3] + 2E[Y_1Y_2Y_3] - 3E[Y_1^2Y_2]$."
   ]
  },
  {
   "cell_type": "code",
   "execution_count": 18,
   "metadata": {},
   "outputs": [
    {
     "data": {
      "image/png": "[encoded data removed]",
      "text/latex": [
       "$$L T_{3.1n3} m_{3} \\theta$$"
      ],
      "text/plain": [
       "L⋅T_3.1n3⋅m₃⋅θ"
      ]
     },
     "execution_count": 18,
     "metadata": {},
     "output_type": "execute_result"
    }
   ],
   "source": [
    "(mgf_math.sub_all_ti(mom_x1x1x1_3, [['0'], ['1'], ['2']]) + \n",
    " 2*mgf_math.sub_all_ti(mom_x1x2x3_3, [['0'], ['1'], ['2']]) - \n",
    " 3*mgf_math.sub_all_ti(mom_x1x1x2_3, [['0'], ['1'], ['2']])).simplify().expand()"
   ]
  },
  {
   "cell_type": "markdown",
   "metadata": {},
   "source": [
    "Doing the same for the fourth central moment is significantly more computationally intensive. For this reason we'll load a moment generating function that was previously put together."
   ]
  },
  {
   "cell_type": "code",
   "execution_count": 3,
   "metadata": {},
   "outputs": [],
   "source": [
    "with open(\"test_mgf_4.pyc\", \"rb\") as fin:\n",
    "    test_mgf_4 = pickle.load(fin)"
   ]
  },
  {
   "cell_type": "code",
   "execution_count": 4,
   "metadata": {
    "collapsed": true
   },
   "outputs": [],
   "source": [
    "mom_x1x2x3x4_4 = test_mgf_4.calc_moment([1,1,1,1], approx_type = \"exchangeable\")"
   ]
  },
  {
   "cell_type": "code",
   "execution_count": 5,
   "metadata": {
    "collapsed": true
   },
   "outputs": [],
   "source": [
    "mom_x1x1x2x3_4 = test_mgf_4.calc_moment([2,1,1,0], approx_type = \"exchangeable\")"
   ]
  },
  {
   "cell_type": "code",
   "execution_count": 6,
   "metadata": {
    "collapsed": true
   },
   "outputs": [],
   "source": [
    "mom_x1x1x1x2_4 = test_mgf_4.calc_moment([3,1,0,0], approx_type = \"exchangeable\")"
   ]
  },
  {
   "cell_type": "code",
   "execution_count": 7,
   "metadata": {
    "collapsed": true,
    "scrolled": true
   },
   "outputs": [],
   "source": [
    "mom_x1x1x1x1_4 = test_mgf_4.calc_moment([4,0,0,0], approx_type = \"exchangeable\")"
   ]
  },
  {
   "cell_type": "code",
   "execution_count": 30,
   "metadata": {
    "collapsed": true
   },
   "outputs": [],
   "source": [
    "with open(\"test_mgf_4.pyc\", \"wb\") as fout:\n",
    "    pickle.dump(test_mgf_4, fout)"
   ]
  },
  {
   "cell_type": "markdown",
   "metadata": {},
   "source": [
    "The expression for the fourth central moment is $h_4=E[\\frac{1}{N}\\sum_N(\\bar{Y} - Y_i)^4] = E[Y_1^4] + 6E[Y_1^2Y_2Y_3] - 4E[Y_1^3Y_2] - 3E[Y_1Y_2Y_3Y_4]$."
   ]
  },
  {
   "cell_type": "code",
   "execution_count": 162,
   "metadata": {
    "scrolled": false
   },
   "outputs": [
    {
     "data": {
      "image/png": "[encoded data removed]",
      "text/latex": [
       "$$\\frac{25 T_{2.1n4}^{2}}{27} L^{2} m_{2}^{2} \\theta^{2} + \\frac{25 T_{2.1n4}}{9} L^{2} T_{3.1n4} m_{2}^{2} \\theta^{2} + \\frac{10 T_{2.1n4}}{3} L^{2} T_{4.1n4} m_{2}^{2} \\theta^{2} + \\frac{25 T_{3.1n4}^{2}}{12} L^{2} m_{2}^{2} \\theta^{2} + 5 L^{2} T_{3.1n4} T_{4.1n4} m_{2}^{2} \\theta^{2} + 3 L^{2} T_{4.1n4}^{2} m_{2}^{2} \\theta^{2} - \\frac{25 L}{27} T_{2.1n4}^{2} m_{2}^{2} \\theta^{2} - \\frac{25 T_{2.1n4}}{9} L T_{3.1n4} m_{2}^{2} \\theta^{2} - \\frac{10 T_{2.1n4}}{3} L T_{4.1n4} m_{2}^{2} \\theta^{2} + \\frac{2 T_{2.1n4}}{9} L m_{4} \\theta + \\frac{8 T_{2.1x3.1n4}}{3} L m_{2}^{2} \\theta^{2} + \\frac{10 T_{2.1x4.1n4}}{3} L m_{2}^{2} \\theta^{2} + \\frac{4 T_{2.2n4}}{3} L m_{2}^{2} \\theta^{2} - \\frac{25 L}{12} T_{3.1n4}^{2} m_{2}^{2} \\theta^{2} - 5 L T_{3.1n4} T_{4.1n4} m_{2}^{2} \\theta^{2} + \\frac{T_{3.1n4} m_{4}}{3} L \\theta + 5 L T_{3.1x4.1n4} m_{2}^{2} \\theta^{2} + 2 L T_{3.2n4} m_{2}^{2} \\theta^{2} - 3 L T_{4.1n4}^{2} m_{2}^{2} \\theta^{2} + L T_{4.1n4} m_{4} \\theta + 3 L T_{4.2n4} m_{2}^{2} \\theta^{2}$$"
      ],
      "text/plain": [
       "    2        2   2  2       2                   2  2       2                  \n",
       "25⋅L ⋅T_2.1n4 ⋅m₂ ⋅θ    25⋅L ⋅T_2.1n4⋅T_3.1n4⋅m₂ ⋅θ    10⋅L ⋅T_2.1n4⋅T_4.1n4⋅m\n",
       "───────────────────── + ──────────────────────────── + ───────────────────────\n",
       "          27                         9                              3         \n",
       "\n",
       " 2  2       2        2   2  2                                                 \n",
       "₂ ⋅θ    25⋅L ⋅T_3.1n4 ⋅m₂ ⋅θ       2                   2  2      2        2   \n",
       "───── + ───────────────────── + 5⋅L ⋅T_3.1n4⋅T_4.1n4⋅m₂ ⋅θ  + 3⋅L ⋅T_4.1n4 ⋅m₂\n",
       "                  12                                                          \n",
       "\n",
       "                   2   2  2                          2  2                     \n",
       "2  2   25⋅L⋅T_2.1n4 ⋅m₂ ⋅θ    25⋅L⋅T_2.1n4⋅T_3.1n4⋅m₂ ⋅θ    10⋅L⋅T_2.1n4⋅T_4.1\n",
       " ⋅θ  - ──────────────────── - ─────────────────────────── - ──────────────────\n",
       "                27                         9                             3    \n",
       "\n",
       "     2  2                                        2  2                      2  \n",
       "n4⋅m₂ ⋅θ    2⋅L⋅T_2.1n4⋅m₄⋅θ   8⋅L⋅T_2.1x3.1n4⋅m₂ ⋅θ    10⋅L⋅T_2.1x4.1n4⋅m₂ ⋅θ\n",
       "───────── + ──────────────── + ────────────────────── + ──────────────────────\n",
       "                   9                     3                         3          \n",
       "\n",
       "2                 2  2               2   2  2                                 \n",
       "    4⋅L⋅T_2.2n4⋅m₂ ⋅θ    25⋅L⋅T_3.1n4 ⋅m₂ ⋅θ                          2  2   L\n",
       "─ + ────────────────── - ──────────────────── - 5⋅L⋅T_3.1n4⋅T_4.1n4⋅m₂ ⋅θ  + ─\n",
       "            3                     12                                          \n",
       "\n",
       "                                                                              \n",
       "⋅T_3.1n4⋅m₄⋅θ                     2  2                 2  2              2   2\n",
       "───────────── + 5⋅L⋅T_3.1x4.1n4⋅m₂ ⋅θ  + 2⋅L⋅T_3.2n4⋅m₂ ⋅θ  - 3⋅L⋅T_4.1n4 ⋅m₂ \n",
       "     3                                                                        \n",
       "\n",
       "                                         \n",
       "  2                                  2  2\n",
       "⋅θ  + L⋅T_4.1n4⋅m₄⋅θ + 3⋅L⋅T_4.2n4⋅m₂ ⋅θ \n",
       "                                         "
      ]
     },
     "execution_count": 162,
     "metadata": {},
     "output_type": "execute_result"
    }
   ],
   "source": [
    "(mgf_math.sub_all_ti(mom_x1x1x1x1_4, [['0'], ['1'], ['2'], ['3']]) + \n",
    "6*mgf_math.sub_all_ti(mom_x1x1x2x3_4, [['0'], ['1'], ['2'], ['3']]) - \n",
    "4*mgf_math.sub_all_ti(mom_x1x1x1x2_4, [['0'], ['1'], ['2'], ['3']]) - \n",
    "3*mgf_math.sub_all_ti(mom_x1x2x3x4_4, [['0'], ['1'], ['2'], ['3']])).simplify().expand()"
   ]
  },
  {
   "cell_type": "code",
   "execution_count": null,
   "metadata": {
    "collapsed": true
   },
   "outputs": [],
   "source": [
    "(mom_x1x1x1x1_4 + \n",
    "6*mom_x1x1x2x3_4 - \n",
    "4*mom_x1x1x1x2_4 - \n",
    "3*mom_x1x2x3x4_4).simplify().expand()"
   ]
  },
  {
   "cell_type": "markdown",
   "metadata": {},
   "source": [
    "A bit of simplification can be done to this expression. Terms of order $L^2\\theta^2$ can be gathered to make $$\\frac{1}{3}\\left( \\frac{5}{3}E[T_2] + \\frac{5}{2}E[T_3] + 3E[T_4] \\right)^2\\left( L\\theta m_2\\right)^2$$ This is equivalent to $3\\left( \\tau_2 L\\theta m_2 \\right)^2$, where $\\tau_2$ is the expected pairwise coalescent time because $\\tau_2 = \\frac{5}{9}E[T_2] + \\frac{5}{6}E[T_3] + E[T_4]$. Some terms of order $L\\theta^2$ also have this exact same form giving $3L(L-1)\\left( \\tau_2 \\theta m_2 \\right)^2$. The remaining order $L \\theta^2$ have a more complicated form as $\\frac{L m_2^2 \\theta^2}{3}\\left(4 E[T_2^2] + 8 E[T_3T_2] + 15 E[T_4T_3] + 6 E[T_3^2] + 10 E[T_4T_2] + 9 E[T_4^2]\\right)$. It's not clear what the interpretation of this term should be. The final terms are order $L \\theta$. These give $L m_4 \\theta \\left( T_4 + \\frac{1}{3} T_3 + \\frac{2}{9} T_2 \\right)$. This term does not have an ultra clear explanation either."
   ]
  }
 ],
 "metadata": {
  "kernelspec": {
   "display_name": "Python 3",
   "language": "python",
   "name": "python3"
  },
  "language_info": {
   "codemirror_mode": {
    "name": "ipython",
    "version": 3
   },
   "file_extension": ".py",
   "mimetype": "text/x-python",
   "name": "python",
   "nbconvert_exporter": "python",
   "pygments_lexer": "ipython3",
   "version": "3.7.2"
  }
 },
 "nbformat": 4,
 "nbformat_minor": 2
}
